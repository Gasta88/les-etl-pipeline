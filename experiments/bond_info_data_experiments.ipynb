{
 "cells": [
  {
   "cell_type": "code",
   "execution_count": 18,
   "metadata": {},
   "outputs": [],
   "source": [
    "import pandas as pd\n",
    "import numpy as np\n",
    "from pyspark.sql import SparkSession, DataFrame\n",
    "from pyspark.conf import SparkConf\n",
    "import pyspark.sql.functions as F\n",
    "from pyspark.sql.window import Window\n",
    "from pyspark.sql.types import *\n",
    "from functools import reduce\n",
    "import json\n",
    "import glob\n",
    "import tempfile\n",
    "\n",
    "\n",
    "spark = SparkSession.builder \\\n",
    "    .master(\"local\") \\\n",
    "    .getOrCreate()"
   ]
  },
  {
   "cell_type": "code",
   "execution_count": 19,
   "metadata": {},
   "outputs": [],
   "source": [
    "bronze_df = spark.read.parquet(\"../data/output/bronze/bond_info_bronze.parquet\")"
   ]
  },
  {
   "cell_type": "code",
   "execution_count": 20,
   "metadata": {},
   "outputs": [
    {
     "name": "stdout",
     "output_type": "stream",
     "text": [
      "+----------+--------------------+----------+----------+-----+---+----+-----+----+--------------------+--------------------+-------+------------+----------+----------+----+------------+------------+----+----------+-----------+----------+----+----+----------+----------+\n",
      "|       BS1|                 BS2|       BS3|       BS4|  BS5|BS6|BS11| BS12|BS13|                BS19|                BS20|   BS25|        BS26|      BS27|      BS28|BS29|        BS30|        BS31|BS32|      BS33|       BS34|      BS35|BS36|BS37|      BS38|      BS39|\n",
      "+----------+--------------------+----------+----------+-----+---+----+-----+----+--------------------+--------------------+-------+------------+----------+----------+----+------------+------------+----+----------+-----------+----------+----+----+----------+----------+\n",
      "|2020-02-23|LANTERNA FINANCE ...|5200000.00|5200000.00|False|EUR|null|False|0.00|0039 10 5794204 c...|0039 10 5794204 c...|CLASS B|IT0005333817|2019-10-28|2019-10-28| EUR|153000000.00|153000000.00|   4|0.03000000|-0.00386000|0.02614000|null|null|2060-01-31|2018-05-31|\n",
      "|2020-05-19|LANTERNA FINANCE ...|5200000.00|5200000.00|False|EUR|null|False|0.00|0039 10 5794204 c...|0039 10 5794204 c...|CLASS B|IT0005333817|2019-10-28|2019-10-28| EUR|153000000.00|153000000.00|   4|0.03000000|-0.00386000|0.02614000|null|null|2060-01-31|2018-05-31|\n",
      "|2020-02-23|LANTERNA FINANCE ...|5200000.00|5200000.00|False|EUR|null|False|0.00|0039 10 5794204 c...|0039 10 5794204 c...|CLASS A|IT0005333809|2019-10-28|2019-10-28| EUR|260000000.00| 40120158.00|   4|0.01100000|-0.00386000|0.00714000|null|null|2060-01-31|2018-05-31|\n",
      "|2020-05-19|LANTERNA FINANCE ...|5200000.00|5200000.00|False|EUR|null|False|0.00|0039 10 5794204 c...|0039 10 5794204 c...|CLASS A|IT0005333809|2019-10-28|2019-10-28| EUR|260000000.00| 11606426.00|   4|0.01100000|-0.00386000|0.00714000|null|null|2060-01-31|2018-05-31|\n",
      "|2018-09-30|LANTERNA FINANCE ...|5200000.00|5200000.00|False|EUR|null|False|0.00|0039 10 5794204 c...|0039 10 5794204 c...|CLASS A|IT0005333809|2018-10-31|2018-10-31| EUR|260000000.00|260000000.00|   4|      null| 0.00871000|      null|null|null|2060-01-31|2018-05-31|\n",
      "|2018-09-30|LANTERNA FINANCE ...|5200000.00|5200000.00|False|EUR|null|False|0.00|0039 10 5794204 c...|0039 10 5794204 c...|CLASS B|IT0005333817|2018-10-31|2018-10-31| EUR|153000000.00|153000000.00|   4|      null| 0.00871000|      null|null|null|2060-01-31|2018-05-31|\n",
      "|2018-12-31|LANTERNA FINANCE ...|5200000.00|5200000.00|False|EUR|null|False|0.00|0039 10 5794204 c...|0039 10 5794204 c...|CLASS A|IT0005333809|2018-01-31|2018-01-31| EUR|260000000.00|192286900.00|   4|      null| 0.00871000|      null|null|null|2060-01-31|2018-05-31|\n",
      "|2018-12-31|LANTERNA FINANCE ...|5200000.00|5200000.00|False|EUR|null|False|0.00|0039 10 5794204 c...|0039 10 5794204 c...|CLASS B|IT0005333817|2018-01-31|2018-01-31| EUR|153000000.00|153000000.00|   4|      null| 0.00871000|      null|null|null|2060-01-31|2018-05-31|\n",
      "|2019-03-31|LANTERNA FINANCE ...|5200000.00|5200000.00|False|EUR|null|False|0.00|0039 10 5794204 c...|0039 10 5794204 c...|CLASS B|IT0005333817|2018-04-28|2018-04-28| EUR|153000000.00|153000000.00|   4|      null| 0.00871000|      null|null|null|2060-01-31|2018-05-31|\n",
      "|2019-06-30|LANTERNA FINANCE ...|5200000.00|5200000.00|False|EUR|null|False|0.00|0039 10 5794204 c...|0039 10 5794204 c...|CLASS A|IT0005333809|2019-07-28|2019-07-28| EUR|260000000.00|106777320.00|   4|      null| 0.00871000|      null|null|null|2060-01-31|2018-05-31|\n",
      "|2019-06-30|LANTERNA FINANCE ...|5200000.00|5200000.00|False|EUR|null|False|0.00|0039 10 5794204 c...|0039 10 5794204 c...|CLASS B|IT0005333817|2019-07-28|2019-07-28| EUR|153000000.00|153000000.00|   4|      null| 0.00871000|      null|null|null|2060-01-31|2018-05-31|\n",
      "|2019-03-31|LANTERNA FINANCE ...|5200000.00|5200000.00|False|EUR|null|False|0.00|0039 10 5794204 c...|0039 10 5794204 c...|CLASS A|IT0005333809|2018-04-28|2018-04-28| EUR|260000000.00|136214728.00|   4|      null| 0.00871000|      null|null|null|2060-01-31|2018-05-31|\n",
      "|2019-09-30|LANTERNA FINANCE ...|5200000.00|5200000.00|False|EUR|null|False|0.00|0039 10 5794204 c...|0039 10 5794204 c...|CLASS B|IT0005333817|2019-10-28|2019-10-28| EUR|153000000.00|153000000.00|   4|      null| 0.00871000|      null|null|null|2060-01-31|2018-05-31|\n",
      "|2019-09-30|LANTERNA FINANCE ...|5200000.00|5200000.00|False|EUR|null|False|0.00|0039 10 5794204 c...|0039 10 5794204 c...|CLASS A|IT0005333809|2019-10-28|2019-10-28| EUR|260000000.00| 61865908.00|   4|      null| 0.00871000|      null|null|null|2060-01-31|2018-05-31|\n",
      "+----------+--------------------+----------+----------+-----+---+----+-----+----+--------------------+--------------------+-------+------------+----------+----------+----+------------+------------+----+----------+-----------+----------+----+----+----------+----------+\n",
      "\n"
     ]
    }
   ],
   "source": [
    "bronze_df.show(n=100)"
   ]
  },
  {
   "cell_type": "code",
   "execution_count": 21,
   "metadata": {},
   "outputs": [],
   "source": [
    "bond_columns  = {'bond_info':[f'BS{i}' for i in range(1,11) if f'BS{i}' in bronze_df.columns],\n",
    "                    'collateral_info':[f'BS{i}' for i in range(11,19) if f'BS{i}' in bronze_df.columns],\n",
    "                    'contact_info':[f'BS{i}' for i in range(19,25) if f'BS{i}' in bronze_df.columns]}"
   ]
  },
  {
   "cell_type": "code",
   "execution_count": 26,
   "metadata": {},
   "outputs": [],
   "source": [
    "# Create Bond Info table\n",
    "def process_bond_info(df, cols_dict):\n",
    "    new_df = (\n",
    "        df\n",
    "        .select(cols_dict[\"bond_info\"])\n",
    "        .withColumn(\"tmp_BS1\", F.unix_timestamp(F.to_timestamp(F.col(\"BS1\"), \"yyyy-MM-dd\"))).drop(\"BS1\").withColumnRenamed(\"tmp_BS1\", \"BS1\")\n",
    "    )\n",
    "    return new_df"
   ]
  },
  {
   "cell_type": "code",
   "execution_count": 27,
   "metadata": {},
   "outputs": [],
   "source": [
    "# Create Collateral Info table\n",
    "def process_collateral_info(df, cols_dict):\n",
    "    new_df = (\n",
    "        df\n",
    "        .select([\"BS1\", \"BS2\"] + cols_dict[\"collateral_info\"])\n",
    "        .withColumn(\"tmp_BS1\", F.unix_timestamp(F.to_timestamp(F.col(\"BS1\"), \"yyyy-MM-dd\"))).drop(\"BS1\").withColumnRenamed(\"tmp_BS1\", \"BS1\")\n",
    "    )\n",
    "    return new_df"
   ]
  },
  {
   "cell_type": "code",
   "execution_count": 28,
   "metadata": {},
   "outputs": [],
   "source": [
    "# Create Contact Info table\n",
    "def process_contact_info(df, cols_dict):\n",
    "    new_df = (\n",
    "        df\n",
    "        .select([\"BS1\", \"BS2\"] + cols_dict[\"contact_info\"])\n",
    "        .withColumn(\"tmp_BS1\", F.unix_timestamp(F.to_timestamp(F.col(\"BS1\"), \"yyyy-MM-dd\"))).drop(\"BS1\").withColumnRenamed(\"tmp_BS1\", \"BS1\")\n",
    "    )\n",
    "    return new_df"
   ]
  },
  {
   "cell_type": "code",
   "execution_count": 29,
   "metadata": {},
   "outputs": [],
   "source": [
    "# Write down examples\n",
    "df = process_bond_info(bronze_df,bond_columns)\n",
    "df.write.parquet(\"../data/output/silver/bonds/info.parquet\")\n",
    "\n",
    "df = process_collateral_info(bronze_df,bond_columns)\n",
    "df.write.parquet(\"../data/output/silver/bonds/collateral_info.parquet\")\n",
    "\n",
    "df = process_contact_info(bronze_df,bond_columns)\n",
    "df.write.parquet(\"../data/output/silver/bonds/contact_info.parquet\")\n"
   ]
  }
 ],
 "metadata": {
  "kernelspec": {
   "display_name": "Python 3.10.6 ('base')",
   "language": "python",
   "name": "python3"
  },
  "language_info": {
   "codemirror_mode": {
    "name": "ipython",
    "version": 3
   },
   "file_extension": ".py",
   "mimetype": "text/x-python",
   "name": "python",
   "nbconvert_exporter": "python",
   "pygments_lexer": "ipython3",
   "version": "3.10.6"
  },
  "orig_nbformat": 4,
  "vscode": {
   "interpreter": {
    "hash": "d4d1e4263499bec80672ea0156c357c1ee493ec2b1c70f0acce89fc37c4a6abe"
   }
  }
 },
 "nbformat": 4,
 "nbformat_minor": 2
}
