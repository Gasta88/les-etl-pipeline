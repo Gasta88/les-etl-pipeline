{
 "cells": [
  {
   "cell_type": "code",
   "execution_count": 1,
   "metadata": {},
   "outputs": [],
   "source": [
    "import pandas as pd\n",
    "import numpy as np\n",
    "from pyspark.sql import SparkSession, DataFrame\n",
    "from pyspark.conf import SparkConf\n",
    "import pyspark.sql.functions as F\n",
    "from pyspark.sql.window import Window\n",
    "from pyspark.sql.types import *\n",
    "from functools import reduce\n",
    "import json\n",
    "import glob\n",
    "import tempfile\n",
    "\n",
    "\n",
    "spark = SparkSession.builder \\\n",
    "    .master(\"local\") \\\n",
    "    .getOrCreate()"
   ]
  },
  {
   "cell_type": "code",
   "execution_count": 2,
   "metadata": {},
   "outputs": [],
   "source": [
    "bronze_df = spark.read.parquet(\"../data/output/bronze/asset_bronze.parquet\")"
   ]
  },
  {
   "cell_type": "code",
   "execution_count": 6,
   "metadata": {},
   "outputs": [],
   "source": [
    "assets_columns  = {'general':[f'AS{i}' for i in range(1,15) if f'AS{i}' in bronze_df.columns],\n",
    "                    'obligor_info':[f'AS{i}' for i in range(15,50) if f'AS{i}' in bronze_df.columns],\n",
    "                    'loan_info':[f'AS{i}' for i in range(50,80) if f'AS{i}' in bronze_df.columns],\n",
    "                    'interest_rate':[f'AS{i}' for i in range(80,100) if f'AS{i}' in bronze_df.columns],\n",
    "                    'financial_info':[f'AS{i}' for i in range(100,115) if f'AS{i}' in bronze_df.columns],\n",
    "                    'performance_info':[f'AS{i}' for i in range(115,146) if f'AS{i}' in bronze_df.columns]}"
   ]
  },
  {
   "cell_type": "code",
   "execution_count": 9,
   "metadata": {},
   "outputs": [
    {
     "name": "stdout",
     "output_type": "stream",
     "text": [
      "+------+----+----+-----+----+----+----+----+----+----+----+----+----+----+----+-----+----+----+----+----+----+----+----+----+----+----+----+----+----+----+-----+-----+-----+----------+----+----+-----+----+----+-----+----+----+----+----+----+----+----+----+----------+----------+-----+--------+---------+---------+----+----+--------+------+----+----------+----+----------+----+----+----+----+----+----+----+----+----+----+----+-----+-----+-----+-----+-----+-----+-----+-----+-----+-----+-----+-----+-------+-----+-------+-----+-----+-----+-----+-----+-----+-----+-----+-----+-----+-----+-----+-----+-----+-----+-----+-----+-----+-----+\n",
      "|   AS3|AS15|AS16| AS17|AS18|AS21|AS22|AS24|AS25|AS26|AS32|AS33|AS34|AS35|AS36| AS42|AS43|AS45|AS52|AS57|AS58|AS59|AS62|AS65|AS68|AS83|AS84|AS89|AS92|AS94|AS111|AS123|AS129|       AS1|AS19|AS20| AS23|AS27|AS28| AS29|AS30|AS31|AS37|AS38|AS39|AS40|AS41|AS44|      AS50|      AS51| AS53|    AS54|     AS55|     AS56|AS60|AS61|    AS63|  AS64|AS66|      AS67|AS69|      AS70|AS71|AS80|AS81|AS82|AS85|AS86|AS87|AS88|AS90|AS91|AS93|AS100|AS101|AS102|AS103|AS104|AS105|AS106|AS107|AS108|AS109|AS110|AS112|  AS115|AS116|  AS117|AS118|AS119|AS120|AS121|AS122|AS124|AS125|AS126|AS127|AS128|AS130|AS131|AS132|AS133|AS134|AS135|AS136|AS137|AS138|\n",
      "+------+----+----+-----+----+----+----+----+----+----+----+----+----+----+----+-----+----+----+----+----+----+----+----+----+----+----+----+----+----+----+-----+-----+-----+----------+----+----+-----+----+----+-----+----+----+----+----+----+----+----+----+----------+----------+-----+--------+---------+---------+----+----+--------+------+----+----------+----+----------+----+----+----+----+----+----+----+----+----+----+----+-----+-----+-----+-----+-----+-----+-----+-----+-----+-----+-----+-----+-------+-----+-------+-----+-----+-----+-----+-----+-----+-----+-----+-----+-----+-----+-----+-----+-----+-----+-----+-----+-----+-----+\n",
      "|107509|  ES|  43|ES514|   4|null|   3|null|   1|   1|null|null|null|null|null|G47.2|null|    | EUR|  13|   1|   1|   2|   1|   1|   3|  12|null|  12|   5|     | null| null|2017-10-31|null|null|false| 0.0| 0.0|false|null|null| 5.0| 0.0|null|null|null| 0.0|2014-08-01|2029-08-01|false|160000.0|138358.07| 137038.0| 0.0| 0.0|  664.99|685.19| 0.0|2017-11-30| 0.0|2014-08-01|null| 6.0|null|null| 6.0|null|null|null|null|null| 0.0|  0.0|  0.0|  0.0|  0.0|  0.0|  0.0|  0.0|  0.0|  0.0|  0.0|  0.0| null|1380.29| 32.0|1320.07| 32.0|  0.0|  0.0|false|false| null|  0.0| null| null| null| null| null|  0.0| null| null| null| null| null| null|\n",
      "|107510|  ES|  12|ES522|   2|null|   2|null|   1|   2|null|null|null|null|null|C23.3|null|    | EUR|   1|   1|   1|   1|   1|   1|   2|   6|null|   6|   2|     | null| null|2017-10-31|null|null|false| 0.0| 0.0|false|null|null|59.0| 0.0|null|null|null| 0.0|2014-08-01|2021-08-01|false|870000.0| 476428.3| 476428.3| 0.0| 0.0|10357.15|950.98| 0.0|2017-11-20| 0.0|      null|null|2.32|null|null| 1.6|null|null|null|null|null| 1.6|  0.0|  0.0|  0.0|  0.0|  0.0|  0.0|  0.0|  0.0|  0.0|  0.0|  0.0| null|    0.0|  0.0|    0.0|  0.0|  0.0|  0.0|false|false| null|  0.0| null| null| null| null| null|  0.0| null| null| null| null| null| null|\n",
      "|107511|  ES|  08|ES511|   2|null|   3|null|   1|   2|null|null|null|null|null|Q86.9|null|    | EUR|  13|   1|   1|   1|   1|   1|   2|   6|null|   6|   2|     | null| null|2017-10-31|null|null|false| 0.0| 0.0|false|null|null|59.0| 0.0|null|null|null| 0.0|2014-09-01|2019-10-01|false|400000.0|159999.88|159999.88| 0.0| 0.0| 6666.67|475.47| 0.0|2017-11-20| 0.0|      null|null|3.45|null|null|2.75|null|null|null|null|null|2.75|  0.0|  0.0|  0.0|  0.0|  0.0|  0.0|  0.0|  0.0|  0.0|  0.0|  0.0| null|    0.0|  0.0|    0.0|  0.0|  0.0|  0.0|false|false| null|  0.0| null| null| null| null| null|  0.0| null| null| null| null| null| null|\n",
      "|107512|  ES|  08|ES511|   4|null|   3|null|   1|   1|null|null|null|null|null|H49.3|null|    | EUR|  13|   1|   1|   2|   1|   1|   3|  12|null|  12|   5|     | null| null|2017-10-31|null|null|false| 0.0| 0.0|false|null|null|22.0| 0.0|null|null|null| 0.0|2014-09-01|2026-09-01|false| 91000.0| 73922.32| 73403.17| 0.0| 0.0|  521.72|363.96| 0.0|2017-11-20| 0.0|2014-09-01|null|5.95|null|null|5.95|null|null|null|null|null| 0.0|  0.0|  0.0|  0.0|  0.0|  0.0|  0.0|  0.0|  0.0|  0.0|  0.0|  0.0| null| 152.79| 12.0| 519.15| 12.0|  0.0|  0.0|false|false| null|  0.0| null| null| null| null| null|  0.0| null| null| null| null| null| null|\n",
      "|107514|  ES|  28|ES300|   2|null|   3|null|   1|   2|null|null|null|null|null|M73.1|null|    | EUR|   1|   1|   1|   2|   1|   1|   3|  12|null|  12|   5|     | null| null|2017-10-31|null|null|false| 0.0| 0.0|false|null|null|32.0| 0.0|null|null|null| 0.0|2014-07-01|2021-07-01|false| 30000.0|  17611.0|  17611.0| 0.0| 0.0|  350.22|  87.5| 0.0|2017-11-20| 0.0|2014-07-01|null|5.96|null|null|5.96|null|null|null|null|null| 0.0|  0.0|  0.0|  0.0|  0.0|  0.0|  0.0|  0.0|  0.0|  0.0|  0.0|  0.0| null|    0.0|  0.0|    0.0|  0.0|  0.0|  0.0|false|false| null|  0.0| null| null| null| null| null|  0.0| null| null| null| null| null| null|\n",
      "+------+----+----+-----+----+----+----+----+----+----+----+----+----+----+----+-----+----+----+----+----+----+----+----+----+----+----+----+----+----+----+-----+-----+-----+----------+----+----+-----+----+----+-----+----+----+----+----+----+----+----+----+----------+----------+-----+--------+---------+---------+----+----+--------+------+----+----------+----+----------+----+----+----+----+----+----+----+----+----+----+----+-----+-----+-----+-----+-----+-----+-----+-----+-----+-----+-----+-----+-------+-----+-------+-----+-----+-----+-----+-----+-----+-----+-----+-----+-----+-----+-----+-----+-----+-----+-----+-----+-----+-----+\n",
      "only showing top 5 rows\n",
      "\n"
     ]
    }
   ],
   "source": [
    "bronze_df.show(n=5)"
   ]
  },
  {
   "cell_type": "code",
   "execution_count": 11,
   "metadata": {},
   "outputs": [],
   "source": [
    "asset_col_type = {'date': ['AS1',\n",
    "  'AS19',\n",
    "  'AS20',\n",
    "  'AS31',\n",
    "  'AS50',\n",
    "  'AS51',\n",
    "  'AS67',\n",
    "  'AS70',\n",
    "  'AS71',\n",
    "  'AS87',\n",
    "  'AS91',\n",
    "  'AS112',\n",
    "  'AS124',\n",
    "  'AS127',\n",
    "  'AS130',\n",
    "  'AS133',\n",
    "  'AS134',\n",
    "  'AS137'],\n",
    " 'string': ['AS2',\n",
    "  'AS3',\n",
    "  'AS4',\n",
    "  'AS5',\n",
    "  'AS6',\n",
    "  'AS7',\n",
    "  'AS8',\n",
    "  'AS15',\n",
    "  'AS16',\n",
    "  'AS17',\n",
    "  'AS18',\n",
    "  'AS21',\n",
    "  'AS22',\n",
    "  'AS24',\n",
    "  'AS25',\n",
    "  'AS26',\n",
    "  'AS32',\n",
    "  'AS33',\n",
    "  'AS34',\n",
    "  'AS35',\n",
    "  'AS36',\n",
    "  'AS42',\n",
    "  'AS43',\n",
    "  'AS45',\n",
    "  'AS52',\n",
    "  'AS57',\n",
    "  'AS58',\n",
    "  'AS59',\n",
    "  'AS62',\n",
    "  'AS65',\n",
    "  'AS68',\n",
    "  'AS83',\n",
    "  'AS84',\n",
    "  'AS89',\n",
    "  'AS92',\n",
    "  'AS94',\n",
    "  'AS111',\n",
    "  'AS123',\n",
    "  'AS129'],\n",
    " 'boolean': ['AS23',\n",
    "  'AS27',\n",
    "  'AS28',\n",
    "  'AS29',\n",
    "  'AS30',\n",
    "  'AS37',\n",
    "  'AS38',\n",
    "  'AS39',\n",
    "  'AS40',\n",
    "  'AS41',\n",
    "  'AS44',\n",
    "  'AS53',\n",
    "  'AS54',\n",
    "  'AS55',\n",
    "  'AS56',\n",
    "  'AS60',\n",
    "  'AS61',\n",
    "  'AS63',\n",
    "  'AS64',\n",
    "  'AS66',\n",
    "  'AS69',\n",
    "  'AS80',\n",
    "  'AS81',\n",
    "  'AS82',\n",
    "  'AS85',\n",
    "  'AS86',\n",
    "  'AS88',\n",
    "  'AS90',\n",
    "  'AS93',\n",
    "  'AS100',\n",
    "  'AS101',\n",
    "  'AS102',\n",
    "  'AS103',\n",
    "  'AS104',\n",
    "  'AS105',\n",
    "  'AS106',\n",
    "  'AS107',\n",
    "  'AS108',\n",
    "  'AS109',\n",
    "  'AS110',\n",
    "  'AS115',\n",
    "  'AS116',\n",
    "  'AS117',\n",
    "  'AS118',\n",
    "  'AS119',\n",
    "  'AS120',\n",
    "  'AS121',\n",
    "  'AS122',\n",
    "  'AS125',\n",
    "  'AS126',\n",
    "  'AS128',\n",
    "  'AS131',\n",
    "  'AS132',\n",
    "  'AS135',\n",
    "  'AS136',\n",
    "  'AS138']}"
   ]
  },
  {
   "cell_type": "code",
   "execution_count": 16,
   "metadata": {},
   "outputs": [
    {
     "name": "stdout",
     "output_type": "stream",
     "text": [
      "+----------+----------+----+-----+-------+---+---+\n",
      "|  date_col| unix_date|year|month|quarter|WoY|day|\n",
      "+----------+----------+----+-----+-------+---+---+\n",
      "|2016-03-01|1456790400|2016|    3|      1|  9|  1|\n",
      "|2045-04-01|2374617600|2045|    4|      2| 13|  1|\n",
      "|2018-08-10|1533859200|2018|    8|      3| 32| 10|\n",
      "|2019-11-01|1572566400|2019|   11|      4| 44|  1|\n",
      "|2030-10-01|1917043200|2030|   10|      4| 40|  1|\n",
      "|2043-10-01|2327270400|2043|   10|      4| 40|  1|\n",
      "|2014-08-01|1406851200|2014|    8|      3| 31|  1|\n",
      "|2025-02-01|1738368000|2025|    2|      1|  5|  1|\n",
      "|2018-09-01|1535760000|2018|    9|      3| 35|  1|\n",
      "|2006-12-01|1164931200|2006|   12|      4| 48|  1|\n",
      "|2016-08-15|1471219200|2016|    8|      3| 33| 15|\n",
      "|2016-08-31|1472601600|2016|    8|      3| 35| 31|\n",
      "|2008-02-01|1201824000|2008|    2|      1|  5|  1|\n",
      "|2017-02-26|1488067200|2017|    2|      1|  8| 26|\n",
      "|2018-06-30|1530316800|2018|    6|      2| 26| 30|\n",
      "|2018-11-01|1541030400|2018|   11|      4| 44|  1|\n",
      "|2026-02-01|1769904000|2026|    2|      1|  5|  1|\n",
      "|2033-10-01|2011737600|2033|   10|      4| 39|  1|\n",
      "|2010-12-01|1291161600|2010|   12|      4| 48|  1|\n",
      "|2036-06-01|2095891200|2036|    6|      2| 22|  1|\n",
      "+----------+----------+----+-----+-------+---+---+\n",
      "only showing top 20 rows\n",
      "\n"
     ]
    }
   ],
   "source": [
    "# Create datetime dimension table\n",
    "def process_dates(df,col_types_dict):\n",
    "    date_cols = [c for c in col_types_dict[\"date\"] if c in df.columns]\n",
    "\n",
    "    new_df= (\n",
    "        df.select(F.explode(F.array(date_cols)).alias(\"date_col\"))\n",
    "        .dropDuplicates()\n",
    "        .withColumn(\"unix_date\", F.unix_timestamp(F.col(\"date_col\")))\n",
    "        .withColumn(\"year\", F.year(F.col(\"date_col\")))\n",
    "        .withColumn(\"month\", F.month(F.col(\"date_col\")))\n",
    "        .withColumn(\"quarter\", F.quarter(F.col(\"date_col\")))\n",
    "        .withColumn(\"WoY\", F.weekofyear(F.col(\"date_col\")))\n",
    "        .withColumn(\"day\", F.dayofmonth(F.col(\"date_col\")))\n",
    "    )\n",
    "    return new_df"
   ]
  },
  {
   "cell_type": "code",
   "execution_count": 21,
   "metadata": {},
   "outputs": [
    {
     "data": {
      "text/plain": [
       "['AS1', 'AS19', 'AS20', 'AS31']"
      ]
     },
     "execution_count": 21,
     "metadata": {},
     "output_type": "execute_result"
    }
   ],
   "source": [
    "#dte_cols\n",
    "[c for c in asset_col_type[\"date\"] if c in assets_columns[\"general\"] + assets_columns[\"obligor_info\"]]\n"
   ]
  },
  {
   "cell_type": "code",
   "execution_count": 18,
   "metadata": {},
   "outputs": [
    {
     "data": {
      "text/plain": [
       "['AS19', 'AS20', 'AS31']"
      ]
     },
     "execution_count": 18,
     "metadata": {},
     "output_type": "execute_result"
    }
   ],
   "source": [
    "# Create Obligor Info dimension table\n",
    "\n",
    "(\n",
    "    bronze_df.select(assets_columns[\"general\"] + assets_columns[\"obligor_info\"])\n",
    "    .withColumn(\"tmp_AS1\", F.unix_timestamp(F.col(\"AS1\"))).drop(\"AS1\").withColumnRenamed(\"tmp_AS1\", \"AS1\")\n",
    "    .withColumn(\"tmp_AS19\", F.unix_timestamp(F.col(\"AS19\"))).drop(\"AS19\").withColumnRenamed(\"tmp_AS19\", \"AS19\")\n",
    "    .withColumn(\"tmp_AS20\", F.unix_timestamp(F.col(\"AS20\"))).drop(\"AS20\").withColumnRenamed(\"tmp_AS20\", \"AS20\")\n",
    "    .withColumn(\"tmp_AS31\", F.unix_timestamp(F.col(\"AS31\"))).drop(\"AS31\").withColumnRenamed(\"tmp_AS31\", \"AS31\")\n",
    "    \n",
    ")"
   ]
  }
 ],
 "metadata": {
  "kernelspec": {
   "display_name": "Python 3.10.6 ('base')",
   "language": "python",
   "name": "python3"
  },
  "language_info": {
   "codemirror_mode": {
    "name": "ipython",
    "version": 3
   },
   "file_extension": ".py",
   "mimetype": "text/x-python",
   "name": "python",
   "nbconvert_exporter": "python",
   "pygments_lexer": "ipython3",
   "version": "3.10.6"
  },
  "orig_nbformat": 4,
  "vscode": {
   "interpreter": {
    "hash": "d4d1e4263499bec80672ea0156c357c1ee493ec2b1c70f0acce89fc37c4a6abe"
   }
  }
 },
 "nbformat": 4,
 "nbformat_minor": 2
}
