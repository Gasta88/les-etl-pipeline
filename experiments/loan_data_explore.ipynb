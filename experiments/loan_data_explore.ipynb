{
 "cells": [
  {
   "cell_type": "code",
   "execution_count": 36,
   "metadata": {},
   "outputs": [
    {
     "name": "stdout",
     "output_type": "stream",
     "text": [
      "Collecting package metadata (current_repodata.json): done\n",
      "Solving environment: done\n",
      "\n",
      "## Package Plan ##\n",
      "\n",
      "  environment location: /opt/conda\n",
      "\n",
      "  added / updated specs:\n",
      "    - black\n",
      "\n",
      "\n",
      "The following packages will be downloaded:\n",
      "\n",
      "    package                    |            build\n",
      "    ---------------------------|-----------------\n",
      "    black-22.10.0              |  py310hff52083_0         233 KB  conda-forge\n",
      "    mypy_extensions-0.4.3      |  py310hff52083_5          11 KB  conda-forge\n",
      "    pathspec-0.10.1            |     pyhd8ed1ab_0          35 KB  conda-forge\n",
      "    platformdirs-2.5.2         |     pyhd8ed1ab_1          16 KB  conda-forge\n",
      "    ------------------------------------------------------------\n",
      "                                           Total:         294 KB\n",
      "\n",
      "The following NEW packages will be INSTALLED:\n",
      "\n",
      "  black              conda-forge/linux-64::black-22.10.0-py310hff52083_0 None\n",
      "  mypy_extensions    conda-forge/linux-64::mypy_extensions-0.4.3-py310hff52083_5 None\n",
      "  pathspec           conda-forge/noarch::pathspec-0.10.1-pyhd8ed1ab_0 None\n",
      "  platformdirs       conda-forge/noarch::platformdirs-2.5.2-pyhd8ed1ab_1 None\n",
      "\n",
      "\n",
      "\n",
      "Downloading and Extracting Packages\n",
      "pathspec-0.10.1      | 35 KB     | ##################################### | 100% \n",
      "platformdirs-2.5.2   | 16 KB     | ##################################### | 100% \n",
      "mypy_extensions-0.4. | 11 KB     | ##################################### | 100% \n",
      "black-22.10.0        | 233 KB    | ##################################### | 100% \n",
      "Preparing transaction: done\n",
      "Verifying transaction: done\n",
      "Executing transaction: done\n",
      "Retrieving notices: ...working... done\n"
     ]
    }
   ],
   "source": [
    "# !conda install -y -c conda-forge pyspark\n",
    "# !conda install -y -c conda-forge black"
   ]
  },
  {
   "cell_type": "code",
   "execution_count": 6,
   "metadata": {},
   "outputs": [],
   "source": [
    "import pandas as pd\n",
    "import numpy as np\n",
    "from pyspark.sql import SparkSession, DataFrame\n",
    "from pyspark.conf import SparkConf\n",
    "import pyspark.sql.functions as F\n",
    "from pyspark.sql.window import Window\n",
    "from pyspark.sql.types import *\n",
    "from functools import reduce\n",
    "import json\n",
    "import glob\n",
    "\n",
    "spark = SparkSession.builder \\\n",
    "    .master(\"local\") \\\n",
    "    .getOrCreate()"
   ]
  },
  {
   "cell_type": "code",
   "execution_count": 8,
   "metadata": {},
   "outputs": [
    {
     "data": {
      "text/plain": [
       "['../data/AssignmentData/SMESES000065103320166_2016_07_29_Loan_Data_8396a20b-86e1-4cac-8d51-dbecb46130c6.csv',\n",
       " '../data/AssignmentData/SMESES000065103320166_2016_10_31_Loan_Data_5370b5fe-b398-4b40-ace5-2691fc3e1504.csv',\n",
       " '../data/AssignmentData/SMESES000065103320166_2017_01_31_Loan_Data_6997f5f3-c2e5-41a4-a038-a5497066fe0e.csv',\n",
       " '../data/AssignmentData/SMESES000065103320166_2017_04_30_Loan_Data_52e3e2b7-f8b6-49fd-b482-72a0445cfa9a.csv',\n",
       " '../data/AssignmentData/SMESES000065103320166_2017_07_31_Loan_Data_d9629927-17f7-48c0-b1f6-ffbd213308d6.csv',\n",
       " '../data/AssignmentData/SMESES000065103320166_2017_10_31_Loan_Data_fb648083-daad-4968-beaa-dfc851ec2b4a.csv',\n",
       " '../data/AssignmentData/SMESES000065103320166_2018_01_31_Loan_Data_464b3e03-7988-4c86-a729-a0d31f3e7622.csv',\n",
       " '../data/AssignmentData/SMESES000065103320166_2018_04_30_Loan_Data_3a6e2077-7e61-4b77-9dd6-6b4ea1794d05.csv',\n",
       " '../data/AssignmentData/SMESES000065103320166_2018_07_31_Loan_Data_af106c4d-a055-49a3-8f62-fede0acb7ce9.csv',\n",
       " '../data/AssignmentData/SMESES000065103320166_2018_10_31_Loan_Data_9e04040c-42a1-4264-abed-f15d5d9379d4.csv',\n",
       " '../data/AssignmentData/SMESES000065103320166_2019_01_31_Loan_Data_ae90ade6-e458-48ae-8b81-d5bb579718e7.csv',\n",
       " '../data/AssignmentData/SMESES000065103320166_2019_04_30_Loan_Data_b5e36d72-0237-43ad-ae40-f04d29dffd17.csv',\n",
       " '../data/AssignmentData/SMESES000065103320166_2019_07_31_Loan_Data_9d7f3c81-34b7-48a7-aaed-2947d7249575.csv',\n",
       " '../data/AssignmentData/SMESES000065103320166_2019_10_31_Loan_Data_5e6ed090-715e-4f70-8b04-ebe5a2e8dd44.csv',\n",
       " '../data/AssignmentData/SMESES000065103320166_2020_01_31_Loan_Data_0ae18b4e-bc73-4051-8db6-fba01cfa1cda.csv',\n",
       " '../data/AssignmentData/SMESES000065103320166_2020_04_30_Loan_Data_02dd65d6-fb1b-401f-b038-4701c323f9c7.csv',\n",
       " '../data/AssignmentData/SMESES000065103320166_2020_07_31_Loan_Data_91e4dce7-d6cd-4eb6-a27e-beafd0f602c3.csv',\n",
       " '../data/AssignmentData/SMESES000065103320166_2020_10_31_Loan_Data_54202492-ea0e-4425-a330-3e8b787c4b1d.csv']"
      ]
     },
     "execution_count": 8,
     "metadata": {},
     "output_type": "execute_result"
    }
   ],
   "source": [
    "all_files = all_files = glob.glob(\"../data/AssignmentData/*.csv\")\n",
    "all_files"
   ]
  },
  {
   "cell_type": "code",
   "execution_count": 107,
   "metadata": {},
   "outputs": [],
   "source": [
    "# Find List columns and change numerical value to literal\n",
    "mapper_dict={\n",
    "    \"Obligor Legal Form / Business Type\":{1:\"Public Company\",2:\"Limited Company\",3:\"Partnership\",4:\"Individul\",5:\"Other\"},\n",
    "    \"Customer Segment\":{1:\"Medium\",2:\"Small\",3:\"Micro\",4:\"Other\"},\n",
    "    \"Borrower Basel III Segment\":{1:\"Corporate\",2:\"SME treated as Corporate\",3:\"Retail\",4:\"Other\"},\n",
    "    \"Asset Type\":{1: 'Loan',\n",
    "                2: 'Guarantee',\n",
    "                3: 'Promissory Notes',\n",
    "                4: 'Participation Rights',\n",
    "                5: 'Overdraft',\n",
    "                6: 'Letter of Credit',\n",
    "                7: 'Working Capital Facility',\n",
    "                8: 'Other'},\n",
    "    \"Seniority\":{1: 'Senior Secured',\n",
    "                2: 'Senior Unsecured',\n",
    "                3: 'Junior',\n",
    "                4: 'Junior Unsecured',\n",
    "                5: 'Other'},\n",
    "    \"Purpose\":{1: 'Purchase',\n",
    "            2: 'Re-mortgage',\n",
    "            3: 'Renovation',\n",
    "            4: 'Equity release',\n",
    "            5: 'Construction Real Estate',\n",
    "            6: 'Construction Other',\n",
    "            7: 'Debt consolidation',\n",
    "            8: 'Re-mortgage with Equity Release',\n",
    "            9: 'Re-mortgage on Different Terms',\n",
    "            10: 'Combination Mortgage',\n",
    "            11: 'Investment Mortgage',\n",
    "            12: 'Working Capital',\n",
    "            13: 'Other'},\n",
    "    \"Principal Payment Frequency\":{1: 'Monthly',\n",
    "                                2: 'Quarterly',\n",
    "                                3: 'Semi annually',\n",
    "                                4: 'Annual',\n",
    "                                5: 'Bullet',\n",
    "                                6: 'Other'},\n",
    "    \"Interest Payment Frequency\":{1: 'Linear',\n",
    "                            2: 'French',\n",
    "                            3: 'Fix Amortisation Schedule',\n",
    "                            4: 'Bullet',\n",
    "                            5: 'Partial Bullet',\n",
    "                            6: 'Revolving',\n",
    "                            7: 'Other'},\n",
    "    \"Type of Loan\":{1: 'Term', 2: 'Revolving Credit Line', 3: 'Other'},\n",
    "    \"Payment type\":{1: 'Direct Debit', 2: 'Standing Order', 3: 'Cheque', 4: 'Cash', 5: 'Other'},\n",
    "    \"Interest Rate Type\":{1: 'Floating rate loan for life',\n",
    "                        2: \"Floating rate loan linked to Libor, Euribor, BoE reverting to the Bank's SVR, ECB reverting to Bank’s SVR\",\n",
    "                        3: 'Fixed rate loan for life',\n",
    "                        4: 'Fixed with future periodic resets',\n",
    "                        5: 'Fixed rate loan with compulsory future switch to floating',\n",
    "                        6: 'Capped',\n",
    "                        7: 'Discount',\n",
    "                        8: 'Switch Optionality',\n",
    "                        9: 'Borrower Swapped',\n",
    "                        10: 'Other'},\n",
    "    \"Current Interest Rate Index\":{1: '1 month LIBOR',\n",
    "                                2: '1 month EURIBOR',\n",
    "                                3: '3 month LIBOR',\n",
    "                                4: '3 month EURIBOR',\n",
    "                                5: '6 month LIBOR',\n",
    "                                6: '6 month EURIBOR',\n",
    "                                7: '12 month LIBOR',\n",
    "                                8: '12 month EURIBOR',\n",
    "                                9: 'BoE Base Rate',\n",
    "                                10: 'ECB Base Rate',\n",
    "                                11: 'Standard Variable Rate',\n",
    "                                12: 'Other'},\n",
    "    \"Interest Reset Period\":{1: 'Annual',\n",
    "                            2: 'Semi-annual',\n",
    "                            3: 'Quarterly',\n",
    "                            4: 'Monthly',\n",
    "                            5: 'Not apply',\n",
    "                            6: 'Other'},\n",
    "    \"Reason for Default (Basel II definition)\":{1: 'Bankruptcy / Insolvency',\n",
    "                                            2: 'Failure to Pay',\n",
    "                                            3: 'Breach of Terms',\n",
    "                                            4: 'Other'},\n",
    "    \"Recovery Source\":{1: 'Bankruptcy / Insolvency',\n",
    "                        2: 'Failure to Pay',\n",
    "                        3: 'Breach of Terms',\n",
    "                        4: 'Other'},\n",
    "    \"Recovery Source\":{1: 'Liquidation of Collateral',\n",
    "                        2: 'Enforcement of Guarantees',\n",
    "                        3: 'Additional Lending',\n",
    "                        4: 'Cash Recoveries',\n",
    "                        5: 'Mixed',\n",
    "                        6: 'Other'},\n",
    "}"
   ]
  },
  {
   "cell_type": "code",
   "execution_count": 145,
   "metadata": {},
   "outputs": [],
   "source": [
    "# Change NoData value with NA and create a \"*_reason\" column with literal explanation\n",
    "# Value\tReason\tExample\n",
    "# 1\tData not collected as not required by the underwriting criteria\tND,1\n",
    "# 2\tData collected at application but not loaded in the reporting system at completion\tND,2\n",
    "# 3\tData collected at application but loaded in a separate system from the reporting one\tND,3\n",
    "# 4\tData collected but will only be available from YYYY-MM\tND,4,YYYY-MM\n",
    "# 5\tNot relevant at the present time\tND,5\n",
    "# 6\tNot applicable for the jurisdiction (see table in 'Assets' and 'Collateral' sheets)\tND,6\n",
    "\n",
    "def replace_no_data(df):\n",
    "    no_data_explanations = {'1':\"Data not collected as not required by the underwriting criteria\",\n",
    "                        '2':\"Data collected at application but not loaded in the reporting system at completion\",\n",
    "                        '3':\"Data collected at application but loaded in a separate system from the reporting one\",\n",
    "                        '4':\"Data collected but will only be available in later releases\",\n",
    "                        '5':\"Not relevant at the present time\",\n",
    "                        '6':\"Not applicable for the jurisdiction\",\n",
    "    }\n",
    "    col_names_to_drop = []\n",
    "    for col_name in df.columns:\n",
    "        if sum([str(v).startswith(\"ND\") for v in df[col_name].unique()])>0:\n",
    "            col_names_to_drop.append(col_name)\n",
    "            value_col_name = f\"{col_name}_value\"\n",
    "            reason_col_name = f\"{col_name}_reason\"\n",
    "            df[[value_col_name, reason_col_name]] = df[col_name].str.split(\",\", expand=True)[[0,1]]\n",
    "            df[reason_col_name]=df[reason_col_name].map(no_data_explanations)\n",
    "    df.drop(col_names_to_drop,axis=1,inplace=True)\n",
    "    df.replace(\"ND\", np.nan, inplace=True)\n",
    "    df.fillna(np.nan, inplace=True)\n",
    "    return df"
   ]
  },
  {
   "cell_type": "code",
   "execution_count": 50,
   "metadata": {},
   "outputs": [
    {
     "data": {
      "text/plain": [
       "{1: 'Liquidation of Collateral',\n",
       " 2: 'Enforcement of Guarantees',\n",
       " 3: 'Additional Lending',\n",
       " 4: 'Cash Recoveries',\n",
       " 5: 'Mixed',\n",
       " 6: 'Other'}"
      ]
     },
     "execution_count": 50,
     "metadata": {},
     "output_type": "execute_result"
    }
   ],
   "source": [
    "# desc=\"\"\"Liquidation of Collateral (1)\n",
    "# Enforcement of Guarantees (2)\n",
    "# Additional Lending (3)\n",
    "# Cash Recoveries (4)\n",
    "# Mixed (5)\n",
    "# Other (6)\n",
    "# No Data (ND)\"\"\"\n",
    "\n",
    "# di = {}\n",
    "# for l in desc.split(\"\\n\"):\n",
    "#     try:\n",
    "#         index = int(l[l.find('(')+1:l.find(')')])\n",
    "#         value = l[:l.find('(')].strip()\n",
    "#         di[index]=value\n",
    "#     except:\n",
    "#         continue\n",
    "# di"
   ]
  },
  {
   "cell_type": "markdown",
   "metadata": {},
   "source": [
    "Obligor Incorporation Date\n",
    "Obligor is a Customer since?\n",
    "Customer segment\n",
    "Borrower Basel III Segment\n",
    "Obligor Tax Code\n",
    "Last Internal Obligor Rating Review\n",
    "S&P Public Rating (equivalent)\n",
    "Moody's Public Rating (equivalent)\n",
    "Fitch Public Rating (equivalent)\n",
    "Dominion Bond Rating Service (DBRS) Public Rating (equivalent)\n",
    "Other Public Rating\n",
    "S&P Industry Code\n",
    "Moody's Industry Code\n",
    "Fitch Industry Code\n",
    "Other Industry Code\n",
    "Principal Grace Period End Date\n",
    "Interest Grace Period End Date\n",
    "Interest Cap Rate\n",
    "Interest Floor Rate\n",
    "Revision Margin 1\n",
    "Interest Revision Date 1\n",
    "Revision Margin 2\n",
    "Interest Revision Date 2\n",
    "Revision Margin 3\n",
    "Interest Revision Date 3\n",
    "Reason for Default (Basel II definition)\n",
    "Default Date\n",
    "Bank Internal Rating Prior to Default\n",
    "Legal Proceedings Start Date\n",
    "Cumulative Recoveries\n",
    "Recovery Source\n",
    "Work-out Process Started\n",
    "Work-out Process Complete\n",
    "Redemption Date\n",
    "Date Loss Allocated\n",
    "Real Estate Sale Price\n",
    "Total Proceeds from Other Collateral or Guarantees\n",
    "Date of End of Work-out\n",
    "Foreclosure Cost\n"
   ]
  },
  {
   "cell_type": "code",
   "execution_count": 146,
   "metadata": {},
   "outputs": [],
   "source": [
    "df = pd.read_csv('../data/AssignmentData/SMESES000065103320166_2020_10_31_Loan_Data_54202492-ea0e-4425-a330-3e8b787c4b1d.csv',header=1)\n",
    "mapped_df = df.replace(mapper_dict)\n",
    "clened_df = replace_no_data(mapped_df)"
   ]
  },
  {
   "cell_type": "code",
   "execution_count": 149,
   "metadata": {},
   "outputs": [
    {
     "data": {
      "text/plain": [
       "array([nan, 'Not relevant at the present time'], dtype=object)"
      ]
     },
     "execution_count": 149,
     "metadata": {},
     "output_type": "execute_result"
    }
   ],
   "source": [
    "clened_df[\"Borrower Basel III Segment_reason\"].unique()"
   ]
  }
 ],
 "metadata": {
  "kernelspec": {
   "display_name": "Python 3.10.6 ('base')",
   "language": "python",
   "name": "python3"
  },
  "language_info": {
   "codemirror_mode": {
    "name": "ipython",
    "version": 3
   },
   "file_extension": ".py",
   "mimetype": "text/x-python",
   "name": "python",
   "nbconvert_exporter": "python",
   "pygments_lexer": "ipython3",
   "version": "3.10.6"
  },
  "orig_nbformat": 4,
  "vscode": {
   "interpreter": {
    "hash": "d4d1e4263499bec80672ea0156c357c1ee493ec2b1c70f0acce89fc37c4a6abe"
   }
  }
 },
 "nbformat": 4,
 "nbformat_minor": 2
}
