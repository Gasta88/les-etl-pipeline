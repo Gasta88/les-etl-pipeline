{
 "cells": [
  {
   "cell_type": "code",
   "execution_count": 1,
   "metadata": {},
   "outputs": [],
   "source": [
    "import pandas as pd\n",
    "import numpy as np\n",
    "from pyspark.sql import SparkSession, DataFrame\n",
    "from pyspark.conf import SparkConf\n",
    "import pyspark.sql.functions as F\n",
    "from pyspark.sql.window import Window\n",
    "from pyspark.sql.types import *\n",
    "from functools import reduce\n",
    "import json\n",
    "import glob\n",
    "import tempfile\n",
    "\n",
    "\n",
    "spark = SparkSession.builder \\\n",
    "    .master(\"local\") \\\n",
    "    .getOrCreate()"
   ]
  },
  {
   "cell_type": "code",
   "execution_count": 11,
   "metadata": {},
   "outputs": [],
   "source": [
    "bronze_df = spark.read.parquet(\"../data/output/bronze/collateral_bronze.parquet\")"
   ]
  },
  {
   "cell_type": "code",
   "execution_count": 30,
   "metadata": {},
   "outputs": [],
   "source": [
    "def process_collateral_info(df):\n",
    "    new_df = (\n",
    "        df\n",
    "        .withColumn(\"tmp_CS11\", F.unix_timestamp(F.to_timestamp(F.col(\"CS11\"), \"yyyy-MM\"))).drop(\"CS11\").withColumnRenamed(\"tmp_CS11\", \"CS11\")\n",
    "        .withColumn(\"tmp_CS12\", F.unix_timestamp(F.to_timestamp(F.col(\"CS12\"), \"yyyy-MM\"))).drop(\"CS12\").withColumnRenamed(\"tmp_CS12\", \"CS12\")\n",
    "        .withColumn(\"tmp_CS22\", F.unix_timestamp(F.to_timestamp(F.col(\"CS22\"), \"yyyy-MM\"))).drop(\"CS22\").withColumnRenamed(\"tmp_CS22\", \"CS22\")\n",
    "    )\n",
    "    return new_df"
   ]
  },
  {
   "cell_type": "code",
   "execution_count": 31,
   "metadata": {},
   "outputs": [],
   "source": [
    "# Write down examples\n",
    "df = process_collateral_info(bronze_df)\n",
    "df.write.parquet(\"../data/output/silver/collaterals/info.parquet\")\n"
   ]
  }
 ],
 "metadata": {
  "kernelspec": {
   "display_name": "Python 3.10.6 ('base')",
   "language": "python",
   "name": "python3"
  },
  "language_info": {
   "codemirror_mode": {
    "name": "ipython",
    "version": 3
   },
   "file_extension": ".py",
   "mimetype": "text/x-python",
   "name": "python",
   "nbconvert_exporter": "python",
   "pygments_lexer": "ipython3",
   "version": "3.10.6"
  },
  "orig_nbformat": 4,
  "vscode": {
   "interpreter": {
    "hash": "d4d1e4263499bec80672ea0156c357c1ee493ec2b1c70f0acce89fc37c4a6abe"
   }
  }
 },
 "nbformat": 4,
 "nbformat_minor": 2
}
