{
 "cells": [
  {
   "cell_type": "code",
   "execution_count": 1,
   "metadata": {},
   "outputs": [],
   "source": [
    "import pandas as pd\n",
    "import numpy as np\n",
    "from pyspark.sql import SparkSession, DataFrame\n",
    "from pyspark.conf import SparkConf\n",
    "import pyspark.sql.functions as F\n",
    "from pyspark.sql.window import Window\n",
    "from pyspark.sql.types import *\n",
    "from functools import reduce\n",
    "import json\n",
    "import glob\n",
    "import tempfile\n",
    "\n",
    "\n",
    "spark = SparkSession.builder \\\n",
    "    .master(\"local\") \\\n",
    "    .getOrCreate()"
   ]
  },
  {
   "cell_type": "code",
   "execution_count": 3,
   "metadata": {},
   "outputs": [
    {
     "data": {
      "text/plain": [
       "dict_keys(['datetime', 'financial_info', 'interest_rate', 'loan_info', 'obligor_info', 'performance_info'])"
      ]
     },
     "execution_count": 3,
     "metadata": {},
     "output_type": "execute_result"
    }
   ],
   "source": [
    "assets_dfs={}\n",
    "for pq in glob.glob(\"../data/output/silver/assets/*.parquet\"):\n",
    "    df_name = pq.split(\"/\")[-1].split(\".\")[0]\n",
    "    assets_dfs[df_name]=spark.read.parquet(pq)\n",
    "assets_dfs.keys()"
   ]
  },
  {
   "cell_type": "code",
   "execution_count": 4,
   "metadata": {},
   "outputs": [
    {
     "name": "stdout",
     "output_type": "stream",
     "text": [
      "root\n",
      " |-- AS3: string (nullable = true)\n",
      " |-- AS52: string (nullable = true)\n",
      " |-- AS53: boolean (nullable = true)\n",
      " |-- AS54: double (nullable = true)\n",
      " |-- AS55: double (nullable = true)\n",
      " |-- AS56: double (nullable = true)\n",
      " |-- AS57: string (nullable = true)\n",
      " |-- AS58: string (nullable = true)\n",
      " |-- AS59: string (nullable = true)\n",
      " |-- AS60: double (nullable = true)\n",
      " |-- AS61: double (nullable = true)\n",
      " |-- AS62: string (nullable = true)\n",
      " |-- AS63: double (nullable = true)\n",
      " |-- AS64: double (nullable = true)\n",
      " |-- AS65: string (nullable = true)\n",
      " |-- AS66: double (nullable = true)\n",
      " |-- AS68: string (nullable = true)\n",
      " |-- AS69: double (nullable = true)\n",
      " |-- AS1: long (nullable = true)\n",
      " |-- AS50: long (nullable = true)\n",
      " |-- AS51: long (nullable = true)\n",
      " |-- AS67: long (nullable = true)\n",
      " |-- AS70: long (nullable = true)\n",
      " |-- AS71: long (nullable = true)\n",
      "\n"
     ]
    }
   ],
   "source": [
    "assets_dfs[\"loan_info\"].printSchema()"
   ]
  }
 ],
 "metadata": {
  "kernelspec": {
   "display_name": "Python 3.10.6 ('base')",
   "language": "python",
   "name": "python3"
  },
  "language_info": {
   "codemirror_mode": {
    "name": "ipython",
    "version": 3
   },
   "file_extension": ".py",
   "mimetype": "text/x-python",
   "name": "python",
   "nbconvert_exporter": "python",
   "pygments_lexer": "ipython3",
   "version": "3.10.6"
  },
  "orig_nbformat": 4,
  "vscode": {
   "interpreter": {
    "hash": "d4d1e4263499bec80672ea0156c357c1ee493ec2b1c70f0acce89fc37c4a6abe"
   }
  }
 },
 "nbformat": 4,
 "nbformat_minor": 2
}
